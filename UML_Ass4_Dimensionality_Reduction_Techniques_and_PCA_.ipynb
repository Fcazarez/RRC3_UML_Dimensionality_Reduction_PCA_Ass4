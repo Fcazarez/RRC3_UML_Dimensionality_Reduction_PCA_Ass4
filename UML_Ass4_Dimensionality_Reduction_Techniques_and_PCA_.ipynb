{
  "nbformat": 4,
  "nbformat_minor": 0,
  "metadata": {
    "colab": {
      "provenance": [],
      "toc_visible": true,
      "authorship_tag": "ABX9TyN7+QJ3xGl519GrzuF5CKi4",
      "include_colab_link": true
    },
    "kernelspec": {
      "name": "python3",
      "display_name": "Python 3"
    },
    "language_info": {
      "name": "python"
    }
  },
  "cells": [
    {
      "cell_type": "markdown",
      "metadata": {
        "id": "view-in-github",
        "colab_type": "text"
      },
      "source": [
        "<a href=\"https://colab.research.google.com/github/Fcazarez/UML_Dimensionality_Reduction_PCA/blob/main/UML_Ass4_Dimensionality_Reduction_Techniques_and_PCA_.ipynb\" target=\"_parent\"><img src=\"https://colab.research.google.com/assets/colab-badge.svg\" alt=\"Open In Colab\"/></a>"
      ]
    },
    {
      "cell_type": "code",
      "execution_count": null,
      "metadata": {
        "id": "bh3raS1RmIWZ"
      },
      "outputs": [],
      "source": []
    },
    {
      "cell_type": "markdown",
      "source": [
        "# **COMP-3705 (241553) Unsupervised Machine Learning**\n",
        "# **Assignment 4: Dimensionality Reduction Techniques and PCA**\n",
        "## **Felix Cazarez**"
      ],
      "metadata": {
        "id": "AW7gyWlGo5QG"
      }
    },
    {
      "cell_type": "markdown",
      "source": [
        "\n",
        "> Due: October 25 at 11:59 PM\n"
      ],
      "metadata": {
        "id": "_L-b1CRKmJKZ"
      }
    },
    {
      "cell_type": "markdown",
      "source": [
        "## Objective:\n",
        "To use PCA to improve upon the clustering and visualization done in assignment 2.\n",
        "\n",
        "## Data:\n",
        "Obtained from Credit Card Dataset for Clustering | Kaggle, original source unknown.\n",
        "\n",
        "## Problem Statement:\n",
        "The marketing department for a credit card company wants to learn more about the different kinds of customers they have in order to develop a marketing strategy that targets each group separately. As a data scientist, your job is to find the best way to divide the customers into groups and you want to see if using PCA can help. In the end you will need to provide a description of each group to be used by the marketing strategists."
      ],
      "metadata": {
        "id": "mQTBvur5pAoF"
      }
    },
    {
      "cell_type": "markdown",
      "source": [
        "# **1. Data Part a)**\n",
        "* Load CC General.csv into a pandas dataframe. Print out the header.\n",
        "* Use pandas.DataFrame.describe to summarize the data.\n",
        "* Using markdown, explain the meaning of each column and make observations about the dataset."
      ],
      "metadata": {
        "id": "Ch37CNC6pHpO"
      }
    },
    {
      "cell_type": "code",
      "source": [],
      "metadata": {
        "id": "3xZkhqMspIeI"
      },
      "execution_count": null,
      "outputs": []
    },
    {
      "cell_type": "code",
      "source": [],
      "metadata": {
        "id": "x0L9gRaNpIqv"
      },
      "execution_count": null,
      "outputs": []
    },
    {
      "cell_type": "code",
      "source": [],
      "metadata": {
        "id": "a69g1tOWpItv"
      },
      "execution_count": null,
      "outputs": []
    },
    {
      "cell_type": "code",
      "source": [],
      "metadata": {
        "id": "unLfDZkTpIwQ"
      },
      "execution_count": null,
      "outputs": []
    },
    {
      "cell_type": "markdown",
      "source": [
        "# **1. Data Part b)**\n",
        "* Use pandas.DataFrame.info to check if the entries are the correct datatype, and if there are any missing values.\n",
        "* Use pandas.DataFrame.duplicates to check for duplicate entries.\n",
        "* Fix the dataset so that there are no missing values, duplicate rows, or incorrect data types.\n",
        "* Use markdown to make observations and explain what you have done.\n",
        "   \n",
        "\n"
      ],
      "metadata": {
        "id": "gho9h1aupJnf"
      }
    },
    {
      "cell_type": "markdown",
      "source": [
        "# **1. Data Part c)**\n",
        "* Drop the 'CUST_ID' column. Use seaborn.heatmap to display the correlation matrix of the features.\n",
        "* Use seaborn.pairplot to generate scatter plots and histograms. Use markdown to make observations.\n",
        "   \n"
      ],
      "metadata": {
        "id": "_KGNMlsUpTFX"
      }
    },
    {
      "cell_type": "markdown",
      "source": [
        "# **2. PCA Part a)**\n",
        "* Use sklearn.preprocessing.MinMaxScaler to scale the data. Print the header.\n",
        "   \n"
      ],
      "metadata": {
        "id": "A49dkfy8pVPo"
      }
    },
    {
      "cell_type": "markdown",
      "source": [
        "# **1. PCA Part b)**\n",
        "* Use sklearn.decomposition.PCA.fit_transform to do a PCA transformation on the data without specifying the number of components.\n",
        "* Print out the explained variance ratios and determine how many components to keep in order to have 95% of the explained variance ratio.\n",
        "   \n"
      ],
      "metadata": {
        "id": "c3NKdBptpW2g"
      }
    },
    {
      "cell_type": "markdown",
      "source": [
        "# **2. PCA Part c)**\n",
        "* Use sklearn.decomposition.PCA.fit_transform again to do a PCA transformation, this time setting n_components to keep 95% of the explained variance and save this to a new dataframe.\n",
        "   \n"
      ],
      "metadata": {
        "id": "weLX9PllpYdo"
      }
    },
    {
      "cell_type": "markdown",
      "source": [
        "# **3. Clustering Part a)**\n",
        "* Create at least 12 different clustering models using k-means, hierarchical, and DBSCAN clustering; experiment with different choices of hyperparameters.\n",
        "* Calculate the silhouette score for each model and tabulate the results.\n",
        "   \n"
      ],
      "metadata": {
        "id": "ZM3MhCeppaP6"
      }
    },
    {
      "cell_type": "markdown",
      "source": [
        "# **3. Clustering Part b)**\n",
        "Select the best model for the use case and justify your choice in markdown. How does the silhouette score compare with your best model from assignment 2?\n",
        "   \n"
      ],
      "metadata": {
        "id": "ozBR4osypb_h"
      }
    },
    {
      "cell_type": "markdown",
      "source": [
        "# **4. Conclusions Part a)**\n",
        "Generate a scatter plot of the first two columns of the transformed data.\n",
        "* Use the model predictions to color the points according to the cluster they belong to. Use markdown to comment on the plot, and how it compares with the plot from assignment 2.\n",
        "\n"
      ],
      "metadata": {
        "id": "ayHzcj8mpdrh"
      }
    },
    {
      "cell_type": "markdown",
      "source": [
        "# **4. Conclusions Part b)**\n",
        "* Generate a histogram that shows the number of elements in each cluster.\n",
        "* Use markdown to comment on the histogram.\n"
      ],
      "metadata": {
        "id": "WESLZJlwpfbS"
      }
    },
    {
      "cell_type": "markdown",
      "source": [
        "\n",
        "# **4. Conclusions Part c)**\n",
        "* Create a separate dataframe from the untransformed data for each cluster.\n",
        "* Use pandas.DataFrame.describe to describe each cluster.\n"
      ],
      "metadata": {
        "id": "zpB6GU5Npg_w"
      }
    },
    {
      "cell_type": "markdown",
      "source": [
        "\n",
        "# **4. Conclusions Part d)**\n",
        "* Provide a written conclusion to describe each group of customers to the marketing strategy team."
      ],
      "metadata": {
        "id": "iGNhADQWpinK"
      }
    }
  ]
}